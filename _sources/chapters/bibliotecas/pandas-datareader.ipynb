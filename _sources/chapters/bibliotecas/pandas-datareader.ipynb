{
 "cells": [
  {
   "cell_type": "markdown",
   "id": "f9ceabe8",
   "metadata": {},
   "source": [
    "# Pandas Datareader\n",
    "\n",
    "\n",
    "`````{tab-set}\n",
    "\n",
    "````{tab-item} API\n",
    "```{code-block} python\n",
    "import pandas_datareader as pdr\n",
    "```\n",
    "````\n",
    "\n",
    "````{tab-item} Install\n",
    "```{code-block} bash\n",
    "pip install pandas-datareader\n",
    "```\n",
    "````\n",
    "\n",
    "```{tab-item} Docs\n",
    "Link: https://pandas-datareader.readthedocs.io/en/latest/\n",
    "```\n",
    "\n",
    "```{tab-item} Data Source\n",
    "Link: https://pandas-datareader.readthedocs.io/en/latest/remote_data.html/\n",
    "```\n",
    "\n",
    "`````"
   ]
  },
  {
   "cell_type": "code",
   "execution_count": 1,
   "id": "f3e5f6f1",
   "metadata": {
    "tags": [
     "remove-input"
    ]
   },
   "outputs": [],
   "source": [
    "import pandas_datareader as pdr"
   ]
  },
  {
   "cell_type": "code",
   "execution_count": 2,
   "id": "480cfe16",
   "metadata": {},
   "outputs": [
    {
     "name": "stdout",
     "output_type": "stream",
     "text": [
      "            High   Low  Open  Close     Volume  Adj Close\n",
      "Date                                                     \n",
      "2021-01-04  4.83  4.62  4.68   4.70   60864100       4.70\n",
      "2021-01-05  4.79  4.58  4.68   4.67   53735300       4.67\n",
      "2021-01-06  4.69  4.50  4.67   4.53   62974400       4.53\n",
      "2021-01-07  4.92  4.58  4.65   4.62  141328200       4.62\n",
      "2021-01-08  4.86  4.61  4.66   4.82   59322800       4.82\n",
      "...          ...   ...   ...    ...        ...        ...\n",
      "2022-06-20  2.42  2.29  2.38   2.31   23238100       2.31\n",
      "2022-06-21  2.38  2.18  2.33   2.20   40461400       2.20\n",
      "2022-06-22  2.30  2.14  2.16   2.25   33398100       2.25\n",
      "2022-06-23  2.32  2.22  2.26   2.26   27202900       2.26\n",
      "2022-06-24  2.30  2.18  2.28   2.20   39525900       2.20\n",
      "\n",
      "[367 rows x 6 columns]\n"
     ]
    }
   ],
   "source": [
    "stocks = dict()\n",
    "\n",
    "stocks['COGN3'] = pdr.DataReader('COGN3.SA', data_source='yahoo', start='2021-01-01')\n",
    "print(stocks['COGN3'])\n"
   ]
  }
 ],
 "metadata": {
  "jupytext": {
   "cell_metadata_filter": "-all",
   "formats": "md:myst",
   "text_representation": {
    "extension": ".md",
    "format_name": "myst",
    "format_version": 0.13,
    "jupytext_version": "1.11.5"
   }
  },
  "kernelspec": {
   "display_name": "Python 3 (ipykernel)",
   "language": "python",
   "name": "python3"
  },
  "language_info": {
   "codemirror_mode": {
    "name": "ipython",
    "version": 3
   },
   "file_extension": ".py",
   "mimetype": "text/x-python",
   "name": "python",
   "nbconvert_exporter": "python",
   "pygments_lexer": "ipython3",
   "version": "3.9.12"
  },
  "source_map": [
   14,
   43,
   49
  ]
 },
 "nbformat": 4,
 "nbformat_minor": 5
}