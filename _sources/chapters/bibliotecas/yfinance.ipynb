{
 "cells": [
  {
   "cell_type": "markdown",
   "id": "ffdac1ae",
   "metadata": {},
   "source": [
    "{{ toc_libs }}\n",
    "\n",
    "# yfinance\n",
    "\n",
    "`````{tab-set}\n",
    "\n",
    "````{tab-item} API\n",
    "```{code-block} python\n",
    "import yfinance as yf\n",
    "```\n",
    "````\n",
    "\n",
    "````{tab-item} Install\n",
    "```{code-block} bash\n",
    "pip install yfinance --upgrade --no-cache-dir\n",
    "```\n",
    "````\n",
    "\n",
    "```{tab-item} Docs\n",
    "<i class=\"fab fa-github fa-2x\"></i> https://github.com/ranaroussi/yfinance\n",
    "```\n",
    "\n",
    "```{tab-item} Data Source\n",
    "Yahoo Finance: https://finance.yahoo.com\n",
    "```\n",
    "\n",
    "`````"
   ]
  },
  {
   "cell_type": "code",
   "execution_count": 1,
   "id": "404515c1",
   "metadata": {
    "tags": [
     "remove-input"
    ]
   },
   "outputs": [],
   "source": [
    "import yfinance as yf"
   ]
  },
  {
   "cell_type": "markdown",
   "id": "5c9487ee",
   "metadata": {},
   "source": [
    "[yfinance](https://pypi.org/project/yfinance/) é uma biblioteca independente que realiza buscas na base de dados do [Yahoo Finance](https://finance.yahoo.com/).\n",
    "\n",
    "## Yahoo URL Query\n",
    "\n",
    "Esta seção mostra explicitamente a URL que a api da <font color='purple'> yahoo finance </font> faz a *query*."
   ]
  },
  {
   "cell_type": "code",
   "execution_count": 2,
   "id": "f308b792",
   "metadata": {
    "tags": [
     "remove-input"
    ]
   },
   "outputs": [],
   "source": [
    "    from datetime import datetime\n",
    "    import urllib.request\n",
    "    from io import StringIO\n",
    "    import pandas as pd"
   ]
  },
  {
   "cell_type": "markdown",
   "id": "6fa09ed0",
   "metadata": {},
   "source": [
    "<font size=2>"
   ]
  },
  {
   "cell_type": "code",
   "execution_count": 3,
   "id": "b61b70df",
   "metadata": {},
   "outputs": [],
   "source": [
    "    def yahoo_query(ticker,start,end='',interval=\"1d\"):\n",
    "        if end=='': end = datetime.now().strftime(\"%d/%m/%Y\")\n",
    "        date = {\n",
    "            'format':\"%d/%m/%Y, %H:%M:%S\",\n",
    "            'start':\"{}, 04:00:00\".format(start),\n",
    "            'end':\"{}, 04:00:00\".format(end)\n",
    "        }\n",
    "        date['start'] = int(datetime.strptime(date['start'],date['format']).timestamp())\n",
    "        date['end'] = int(datetime.strptime(date['end'],date['format']).timestamp())\n",
    "        \n",
    "        query = \"https://query1.finance.yahoo.com/v7/finance/download/\"\n",
    "        period = \"period1={}&period2={}&interval={}&events=history&includeAdjustedClose=true\".format(date['start'],date['end'],interval)\n",
    "        url = \"{}{}?{}\".format(query,ticker,period)\n",
    "        \n",
    "        with urllib.request.urlopen(url) as f:\n",
    "            return pd.read_csv(StringIO(f.read().decode('utf-8')),sep=\",\")    "
   ]
  },
  {
   "cell_type": "code",
   "execution_count": 4,
   "id": "37ebbd2a",
   "metadata": {},
   "outputs": [
    {
     "name": "stdout",
     "output_type": "stream",
     "text": [
      "                Open      High       Low     Close  Adj Close     Volume\n",
      "Date                                                                    \n",
      "2011-05-02  0.503125  0.518750  0.503125  0.514062   0.463173  280003200\n",
      "2011-05-03  0.515625  0.521562  0.506250  0.509375   0.458950   33670400\n",
      "2011-05-04  0.510000  0.515000  0.510000  0.515000   0.464018   39203200\n",
      "2011-05-05  0.512812  0.512812  0.510000  0.511875   0.461202   35097600\n",
      "2011-05-06  0.510937  0.511875  0.500000  0.508125   0.457824   38672000\n"
     ]
    },
    {
     "data": {
      "image/png": "[encoded data removed]",
      "text/plain": [
       "<Figure size 432x288 with 1 Axes>"
      ]
     },
     "metadata": {
      "filenames": {
       "image/png": "/Volumes/ABA/Projetos/books/Mercado Financeiro/book/_build/jupyter_execute/chapters/bibliotecas/yfinance_6_1.png"
      },
      "needs_background": "light"
     },
     "output_type": "display_data"
    }
   ],
   "source": [
    "    magalu = yahoo_query(\"MGLU3.SA\",start='02/05/2011')\n",
    "    magalu.set_index('Date',inplace=True)\n",
    "    print(magalu.head())\n",
    "    magalu['Adj Close'].plot(rot=45);"
   ]
  },
  {
   "cell_type": "markdown",
   "id": "532a2f39",
   "metadata": {},
   "source": [
    "</font>\n",
    "\n",
    "## Métodos \n",
    "\n",
    "#### Ticker(*args, **kwargs)\n",
    "\n",
    "O método `.Ticker()` reúne as principais informações da empresa sendo buscada."
   ]
  },
  {
   "cell_type": "code",
   "execution_count": 5,
   "id": "dc9bc79d",
   "metadata": {},
   "outputs": [],
   "source": [
    "    ticker = {'Coca-Cola':'KO'}\n",
    "    stocks = dict()"
   ]
  }
 ],
 "metadata": {
  "jupytext": {
   "cell_metadata_filter": "-all",
   "formats": "md:myst",
   "text_representation": {
    "extension": ".md",
    "format_name": "myst",
    "format_version": 0.13,
    "jupytext_version": "1.11.5"
   }
  },
  "kernelspec": {
   "display_name": "Python 3 (ipykernel)",
   "language": "python",
   "name": "python3"
  },
  "language_info": {
   "codemirror_mode": {
    "name": "ipython",
    "version": 3
   },
   "file_extension": ".py",
   "mimetype": "text/x-python",
   "name": "python",
   "nbconvert_exporter": "python",
   "pygments_lexer": "ipython3",
   "version": "3.9.12"
  },
  "source_map": [
   14,
   44,
   47,
   55,
   61,
   65,
   84,
   89,
   99
  ]
 },
 "nbformat": 4,
 "nbformat_minor": 5
}