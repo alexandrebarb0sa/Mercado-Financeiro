{
 "cells": [
  {
   "cell_type": "markdown",
   "id": "0e98dd59",
   "metadata": {},
   "source": [
    "# brFinance\n",
    "\n",
    "`````{tab-set}\n",
    "\n",
    "````{tab-item} API\n",
    "```{code-block} python\n",
    "import brfinance as brf\n",
    "```\n",
    "````\n",
    "\n",
    "````{tab-item} Install\n",
    "```{code-block} bash\n",
    "pip install brfinance\n",
    "```\n",
    "````\n",
    "\n",
    "```{tab-item} Docs\n",
    "<i class=\"fab fa-github fa-2x\"></i> https://github.com/eudesrodrigo/brFinance\n",
    "```\n",
    "\n",
    "```{tab-item} Data Source\n",
    "\n",
    "```\n",
    "\n",
    "`````"
   ]
  },
  {
   "cell_type": "code",
   "execution_count": 1,
   "id": "b7fa4a00",
   "metadata": {
    "tags": [
     "remove-input"
    ]
   },
   "outputs": [],
   "source": [
    "import brfinance as brf"
   ]
  },
  {
   "cell_type": "markdown",
   "id": "30dc9f7c",
   "metadata": {},
   "source": [
    "[brfinance](https://github.com/eudesrodrigo/brFinance) é uma biblioteca..."
   ]
  }
 ],
 "metadata": {
  "jupytext": {
   "cell_metadata_filter": "-all",
   "formats": "md:myst",
   "text_representation": {
    "extension": ".md",
    "format_name": "myst",
    "format_version": 0.13,
    "jupytext_version": "1.11.5"
   }
  },
  "kernelspec": {
   "display_name": "Python 3 (ipykernel)",
   "language": "python",
   "name": "python3"
  },
  "language_info": {
   "codemirror_mode": {
    "name": "ipython",
    "version": 3
   },
   "file_extension": ".py",
   "mimetype": "text/x-python",
   "name": "python",
   "nbconvert_exporter": "python",
   "pygments_lexer": "ipython3",
   "version": "3.9.12"
  },
  "source_map": [
   14,
   42,
   45
  ]
 },
 "nbformat": 4,
 "nbformat_minor": 5
}