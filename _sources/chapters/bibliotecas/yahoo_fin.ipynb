{
 "cells": [
  {
   "cell_type": "markdown",
   "id": "588614af",
   "metadata": {},
   "source": [
    "# yahoo_fin\n",
    "\n",
    "`````{tab-set}\n",
    "\n",
    "````{tab-item} API\n",
    "```{code-block} python\n",
    "import yahoo_fin as yfin\n",
    "```\n",
    "````\n",
    "\n",
    "````{tab-item} Install\n",
    "```{code-block} bash\n",
    "pip install yahoo-fin\n",
    "```\n",
    "````\n",
    "\n",
    "```{tab-item} Docs\n",
    "<i class=\"fab fa-github fa-2x\"></i> https://github.com/atreadw1492/yahoo_fin <br>\n",
    "<i class=\"fa fa-home fa-2x\"></i> http://theautomatic.net/yahoo_fin-documentation/\n",
    "```\n",
    "\n",
    "```{tab-item} Data Source\n",
    "Yahoo Finance: https://finance.yahoo.com\n",
    "```\n",
    "\n",
    "`````"
   ]
  },
  {
   "cell_type": "code",
   "execution_count": 1,
   "id": "18389065",
   "metadata": {
    "tags": [
     "remove-input"
    ]
   },
   "outputs": [],
   "source": [
    "import yahoo_fin as yfin"
   ]
  },
  {
   "cell_type": "markdown",
   "id": "527a47ad",
   "metadata": {},
   "source": [
    "[yahoo_fin](http://theautomatic.net/yahoo_fin-documentation/) é uma biblioteca independente que realiza buscas na base de dados do [Yahoo Finance](https://finance.yahoo.com/).\n",
    "\n",
    "# Live Price"
   ]
  }
 ],
 "metadata": {
  "jupytext": {
   "cell_metadata_filter": "-all",
   "formats": "md:myst",
   "text_representation": {
    "extension": ".md",
    "format_name": "myst",
    "format_version": 0.13,
    "jupytext_version": "1.11.5"
   }
  },
  "kernelspec": {
   "display_name": "Python 3 (ipykernel)",
   "language": "python",
   "name": "python3"
  },
  "language_info": {
   "codemirror_mode": {
    "name": "ipython",
    "version": 3
   },
   "file_extension": ".py",
   "mimetype": "text/x-python",
   "name": "python",
   "nbconvert_exporter": "python",
   "pygments_lexer": "ipython3",
   "version": "3.9.12"
  },
  "source_map": [
   14,
   43,
   46
  ]
 },
 "nbformat": 4,
 "nbformat_minor": 5
}